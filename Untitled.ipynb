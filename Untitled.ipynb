{
  "nbformat": 4,
  "nbformat_minor": 0,
  "metadata": {
    "colab": {
      "provenance": []
    },
    "kernelspec": {
      "name": "python3",
      "display_name": "Python 3"
    },
    "language_info": {
      "name": "python"
    }
  },
  "cells": [
    {
      "cell_type": "code",
      "execution_count": null,
      "metadata": {
        "id": "KC1VT0nlSTM4"
      },
      "outputs": [],
      "source": [
        "#1\n",
        "marks = {'Andy': 88, 'Amy': 66, 'James': 90, 'Jules': 55, 'Arthur': 77}\n",
        "def grade(student_name):\n",
        "    if student_name in marks:\n",
        "        return marks[student_name]\n",
        "    else:\n",
        "        print(\"You cannot find this student's name.\")\n",
        "def average_grade():\n",
        "    return sum(marks.values())/len(marks)\n",
        "print(average_grade())\n"
      ]
    },
    {
      "cell_type": "code",
      "source": [
        "#2\n",
        "def squares(num):\n",
        "    n = 0\n",
        "    while n < num:\n",
        "        print(n, n**2)\n",
        "        n+= 1\n",
        "    else:\n",
        "        print(\"greater than\", num)\n",
        "squares(8)\n"
      ],
      "metadata": {
        "id": "4tyxtWvcSVi3"
      },
      "execution_count": null,
      "outputs": []
    },
    {
      "cell_type": "code",
      "source": [
        "#3\n",
        "def sum(num):\n",
        "    total = 0\n",
        "    n = 1\n",
        "    while n<= num:\n",
        "        total+= n\n",
        "        n += 1\n",
        "    print(total)"
      ],
      "metadata": {
        "id": "eikRvUWbSXIF"
      },
      "execution_count": null,
      "outputs": []
    },
    {
      "cell_type": "code",
      "source": [
        "#4\n",
        "def sum(num):\n",
        "    total = 0\n",
        "    for n in range(num+1,1):\n",
        "        total +=n\n",
        "        print(total)"
      ],
      "metadata": {
        "id": "TnWbJLToSY98"
      },
      "execution_count": null,
      "outputs": []
    },
    {
      "cell_type": "code",
      "source": [
        "#5\n",
        "import statistics\n",
        "\n",
        "my_list = list(range(1, 100))\n",
        "\n",
        "def list_stat(num):\n",
        "    mean = statistics.mean(num)\n",
        "    total = sum(num)\n",
        "    stddev = statistics.stdev(num)\n",
        "    print(f'Mean: {mean}')\n",
        "    print(f'Sum: {total}')\n",
        "    print(f'Standard deviation: {stddev}')\n",
        "\n",
        "list_stat(my_list)"
      ],
      "metadata": {
        "id": "rSprlxatSaZV"
      },
      "execution_count": null,
      "outputs": []
    },
    {
      "cell_type": "code",
      "source": [
        "#6\n",
        "def min(v1, v2, v3, v4):\n",
        "    min_value = v1 \n",
        "    if v2 <min_value:\n",
        "        min_value = v2\n",
        "    if v3 < min_value:\n",
        "        min_value = v3\n",
        "    if v4< min_value:\n",
        "        min_value = v4\n",
        "    return min_value\n",
        "print(min(1,2,3,4))"
      ],
      "metadata": {
        "id": "aVLzN-U7ScUa"
      },
      "execution_count": null,
      "outputs": []
    },
    {
      "cell_type": "code",
      "source": [
        "#7\n",
        "def strings(string_list):\n",
        "    return string_list[0] + string_list[1] + string_list[2]\n",
        "print(strings)"
      ],
      "metadata": {
        "id": "G8G5QmttSi3X"
      },
      "execution_count": null,
      "outputs": []
    }
  ]
}